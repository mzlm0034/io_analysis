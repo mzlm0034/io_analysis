{
 "cells": [
  {
   "cell_type": "code",
   "execution_count": 11,
   "id": "d855360a",
   "metadata": {},
   "outputs": [
    {
     "name": "stdout",
     "output_type": "stream",
     "text": [
      "username\n"
     ]
    },
    {
     "ename": "TypeError",
     "evalue": "list indices must be integers or slices, not str",
     "output_type": "error",
     "traceback": [
      "\u001b[1;31m---------------------------------------------------------------------------\u001b[0m",
      "\u001b[1;31mTypeError\u001b[0m                                 Traceback (most recent call last)",
      "\u001b[1;32m<ipython-input-11-dd32cf5cc533>\u001b[0m in \u001b[0;36m<module>\u001b[1;34m\u001b[0m\n\u001b[0;32m     58\u001b[0m \u001b[1;32mfor\u001b[0m \u001b[0mk\u001b[0m\u001b[1;33m,\u001b[0m\u001b[0mv\u001b[0m \u001b[1;32min\u001b[0m \u001b[0mapp_dict\u001b[0m\u001b[1;33m[\u001b[0m\u001b[1;34m\"pw.x\"\u001b[0m\u001b[1;33m]\u001b[0m\u001b[1;33m.\u001b[0m\u001b[0mitems\u001b[0m\u001b[1;33m(\u001b[0m\u001b[1;33m)\u001b[0m\u001b[1;33m:\u001b[0m\u001b[1;33m\u001b[0m\u001b[1;33m\u001b[0m\u001b[0m\n\u001b[0;32m     59\u001b[0m     \u001b[0mprint\u001b[0m\u001b[1;33m(\u001b[0m\u001b[0mk\u001b[0m\u001b[1;33m)\u001b[0m\u001b[1;33m\u001b[0m\u001b[1;33m\u001b[0m\u001b[0m\n\u001b[1;32m---> 60\u001b[1;33m     \u001b[0mprint\u001b[0m\u001b[1;33m(\u001b[0m\u001b[0mv\u001b[0m\u001b[1;33m[\u001b[0m\u001b[1;34m\"username\"\u001b[0m\u001b[1;33m]\u001b[0m\u001b[1;33m)\u001b[0m\u001b[1;33m\u001b[0m\u001b[1;33m\u001b[0m\u001b[0m\n\u001b[0m\u001b[0;32m     61\u001b[0m \u001b[1;33m\u001b[0m\u001b[0m\n\u001b[0;32m     62\u001b[0m \u001b[1;33m\u001b[0m\u001b[0m\n",
      "\u001b[1;31mTypeError\u001b[0m: list indices must be integers or slices, not str"
     ]
    }
   ],
   "source": [
    "import numpy as np\n",
    "import matplotlib.pyplot as plt\n",
    "from matplotlib.gridspec import  GridSpec\n",
    "from datetime import datetime\n",
    "from datetime import timedelta\n",
    "import pickle\n",
    "import textwrap\n",
    "import matplotlib\n",
    "import pandas as pd\n",
    "from scipy.stats import pearsonr\n",
    "import os\n",
    "\n",
    "app_dict = {}\n",
    "\n",
    "\n",
    "load_fd = open(\"darshan_dict.all\", 'rb')\n",
    "darshan_dict = pickle.load(load_fd)\n",
    "load_fd.close()\n",
    "\n",
    "app_name = \"top_write_lst.log\"\n",
    "load_fd = open(app_name, 'rb')\n",
    "#pickle.dump(tot_df, dump_fd)\n",
    "io_app_lst = pickle.load(load_fd)\n",
    "perf_mat_x = \"nprocs\"\n",
    "\n",
    "load_fd.close()\n",
    "\n",
    "\n",
    "counter = 0\n",
    "for k,v in darshan_dict.items():\n",
    " #   print(v[\"stat_app_name\"])\n",
    "    if v[\"stat_app_name\"] not in io_app_lst:\n",
    "        continue\n",
    "        \n",
    "    app_name = v[\"stat_app_name\"]\n",
    "    user_name = v[\"stat_user_name\"]\n",
    "\n",
    "    if app_name not in app_dict:\n",
    "        app_dict[app_name] = {}\n",
    "    \n",
    "    if user_name not in app_dict[app_name]:\n",
    "        app_dict[app_name][\"username\"] = []\n",
    "        app_dict[app_name][\"nprocs\"] = []\n",
    "        app_dict[app_name][\"miner_w_bw\"] = []\n",
    "    \n",
    "\n",
    "    if \"MB\" in str(v[\"miner_w_bw\"]):\n",
    "        miner_bw = int(float(v[\"miner_w_bw\"][:-4]))\n",
    "    else:\n",
    "        miner_bw = int(float(v[\"miner_w_bw\"]))\n",
    "    \n",
    "    app_dict[app_name][\"username\"].append(v[\"stat_user_name\"])\n",
    "    app_dict[app_name][\"nprocs\"].append(int(v[\"nprocs\"]))\n",
    "    app_dict[app_name][\"miner_w_bw\"].append(miner_bw)\n",
    "\n",
    "        \n",
    "\n",
    "for k,v in app_dict[\"pw.x\"].items():\n",
    "    print(k)\n",
    "    print(v[\"username\"])\n",
    "    \n",
    "\n",
    "df = pd.DataFrame.from_dict(app_dict[\"pw.x\"])\n",
    "\n",
    "for row in df.iterrows():\n",
    "    print(row)\n",
    "    print(\"\\n\")\n",
    "\n",
    "#df.plot.scatter(x = 'nprocs', y = 'miner_w_bw', c = 'username');\n",
    "\n",
    "#boxplot = df.boxplot()\n",
    "#plt.xticks(rotation=90)"
   ]
  },
  {
   "cell_type": "code",
   "execution_count": null,
   "id": "43272d73",
   "metadata": {},
   "outputs": [],
   "source": []
  }
 ],
 "metadata": {
  "kernelspec": {
   "display_name": "Python 3",
   "language": "python",
   "name": "python3"
  },
  "language_info": {
   "codemirror_mode": {
    "name": "ipython",
    "version": 3
   },
   "file_extension": ".py",
   "mimetype": "text/x-python",
   "name": "python",
   "nbconvert_exporter": "python",
   "pygments_lexer": "ipython3",
   "version": "3.8.8"
  }
 },
 "nbformat": 4,
 "nbformat_minor": 5
}
